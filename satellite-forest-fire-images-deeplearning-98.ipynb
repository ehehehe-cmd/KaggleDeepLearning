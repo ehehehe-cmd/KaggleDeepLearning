{
 "cells": [
  {
   "cell_type": "code",
   "execution_count": 1,
   "id": "2a5403ae",
   "metadata": {
    "_cell_guid": "b1076dfc-b9ad-4769-8c92-a6c4dae69d19",
    "_uuid": "8f2839f25d086af736a60e9eeb907d3b93b6e0e5",
    "execution": {
     "iopub.execute_input": "2025-07-24T16:17:27.888534Z",
     "iopub.status.busy": "2025-07-24T16:17:27.888233Z",
     "iopub.status.idle": "2025-07-24T16:17:30.070606Z",
     "shell.execute_reply": "2025-07-24T16:17:30.069611Z"
    },
    "papermill": {
     "duration": 2.188497,
     "end_time": "2025-07-24T16:17:30.072647",
     "exception": false,
     "start_time": "2025-07-24T16:17:27.884150",
     "status": "completed"
    },
    "tags": []
   },
   "outputs": [
    {
     "name": "stdout",
     "output_type": "stream",
     "text": [
      "/kaggle/input/forest-fire-from-himawari8-satellite/Data/Test/0/0133.png\n",
      "/kaggle/input/forest-fire-from-himawari8-satellite/Data/Test/0/043.png\n",
      "/kaggle/input/forest-fire-from-himawari8-satellite/Data/Test/0/083.png\n",
      "/kaggle/input/forest-fire-from-himawari8-satellite/Data/Test/0/089.png\n",
      "/kaggle/input/forest-fire-from-himawari8-satellite/Data/Test/0/023.png\n",
      "/kaggle/input/forest-fire-from-himawari8-satellite/Data/Test/0/092.png\n",
      "/kaggle/input/forest-fire-from-himawari8-satellite/Data/Test/0/0146.png\n",
      "/kaggle/input/forest-fire-from-himawari8-satellite/Data/Test/0/081.png\n",
      "/kaggle/input/forest-fire-from-himawari8-satellite/Data/Test/0/0202.png\n",
      "/kaggle/input/forest-fire-from-himawari8-satellite/Data/Test/0/0163.png\n",
      "/kaggle/input/forest-fire-from-himawari8-satellite/Data/Test/0/039.png\n",
      "/kaggle/input/forest-fire-from-himawari8-satellite/Data/Test/0/0152.png\n",
      "/kaggle/input/forest-fire-from-himawari8-satellite/Data/Test/0/025.png\n",
      "/kaggle/input/forest-fire-from-himawari8-satellite/Data/Test/0/0108.png\n",
      "/kaggle/input/forest-fire-from-himawari8-satellite/Data/Test/0/0193.png\n",
      "/kaggle/input/forest-fire-from-himawari8-satellite/Data/Test/0/0124.png\n",
      "/kaggle/input/forest-fire-from-himawari8-satellite/Data/Test/0/0171.png\n",
      "/kaggle/input/forest-fire-from-himawari8-satellite/Data/Test/0/093.png\n",
      "/kaggle/input/forest-fire-from-himawari8-satellite/Data/Test/0/076.png\n",
      "/kaggle/input/forest-fire-from-himawari8-satellite/Data/Test/0/051.png\n",
      "/kaggle/input/forest-fire-from-himawari8-satellite/Data/Test/0/0183.png\n",
      "/kaggle/input/forest-fire-from-himawari8-satellite/Data/Test/0/0105.png\n",
      "/kaggle/input/forest-fire-from-himawari8-satellite/Data/Test/0/0167.png\n",
      "/kaggle/input/forest-fire-from-himawari8-satellite/Data/Test/0/0192.png\n",
      "/kaggle/input/forest-fire-from-himawari8-satellite/Data/Test/0/026.png\n",
      "/kaggle/input/forest-fire-from-himawari8-satellite/Data/Test/0/0126.png\n",
      "/kaggle/input/forest-fire-from-himawari8-satellite/Data/Test/0/01.png\n",
      "/kaggle/input/forest-fire-from-himawari8-satellite/Data/Test/0/0197.png\n",
      "/kaggle/input/forest-fire-from-himawari8-satellite/Data/Test/0/0121.png\n",
      "/kaggle/input/forest-fire-from-himawari8-satellite/Data/Test/0/078.png\n",
      "/kaggle/input/forest-fire-from-himawari8-satellite/Data/Test/0/0160.png\n",
      "/kaggle/input/forest-fire-from-himawari8-satellite/Data/Test/0/0203.png\n",
      "/kaggle/input/forest-fire-from-himawari8-satellite/Data/Test/0/059.png\n",
      "/kaggle/input/forest-fire-from-himawari8-satellite/Data/Test/0/0131.png\n",
      "/kaggle/input/forest-fire-from-himawari8-satellite/Data/Test/0/0177.png\n",
      "/kaggle/input/forest-fire-from-himawari8-satellite/Data/Test/0/0159.png\n",
      "/kaggle/input/forest-fire-from-himawari8-satellite/Data/Test/0/098.png\n",
      "/kaggle/input/forest-fire-from-himawari8-satellite/Data/Test/0/0129.png\n",
      "/kaggle/input/forest-fire-from-himawari8-satellite/Data/Test/0/0184.png\n",
      "/kaggle/input/forest-fire-from-himawari8-satellite/Data/Test/0/0173.png\n",
      "/kaggle/input/forest-fire-from-himawari8-satellite/Data/Test/1/158.jpeg\n",
      "/kaggle/input/forest-fire-from-himawari8-satellite/Data/Test/1/1199.jpeg\n",
      "/kaggle/input/forest-fire-from-himawari8-satellite/Data/Test/1/166.jpeg\n",
      "/kaggle/input/forest-fire-from-himawari8-satellite/Data/Test/1/179.jpeg\n",
      "/kaggle/input/forest-fire-from-himawari8-satellite/Data/Test/1/1163.jpeg\n",
      "/kaggle/input/forest-fire-from-himawari8-satellite/Data/Test/1/1129.jpeg\n",
      "/kaggle/input/forest-fire-from-himawari8-satellite/Data/Test/1/1164.jpeg\n",
      "/kaggle/input/forest-fire-from-himawari8-satellite/Data/Test/1/138.jpeg\n",
      "/kaggle/input/forest-fire-from-himawari8-satellite/Data/Test/1/1103.jpeg\n",
      "/kaggle/input/forest-fire-from-himawari8-satellite/Data/Test/1/1153.jpeg\n",
      "/kaggle/input/forest-fire-from-himawari8-satellite/Data/Test/1/1172.jpeg\n",
      "/kaggle/input/forest-fire-from-himawari8-satellite/Data/Test/1/1114.jpeg\n",
      "/kaggle/input/forest-fire-from-himawari8-satellite/Data/Test/1/118.jpeg\n",
      "/kaggle/input/forest-fire-from-himawari8-satellite/Data/Test/1/1115.jpeg\n",
      "/kaggle/input/forest-fire-from-himawari8-satellite/Data/Test/1/163.jpeg\n",
      "/kaggle/input/forest-fire-from-himawari8-satellite/Data/Test/1/1111.jpeg\n",
      "/kaggle/input/forest-fire-from-himawari8-satellite/Data/Test/1/1151.jpeg\n",
      "/kaggle/input/forest-fire-from-himawari8-satellite/Data/Test/1/190.jpeg\n",
      "/kaggle/input/forest-fire-from-himawari8-satellite/Data/Test/1/1130.jpeg\n",
      "/kaggle/input/forest-fire-from-himawari8-satellite/Data/Test/1/1132.jpeg\n",
      "/kaggle/input/forest-fire-from-himawari8-satellite/Data/Test/1/110.jpeg\n",
      "/kaggle/input/forest-fire-from-himawari8-satellite/Data/Test/1/1105.jpeg\n",
      "/kaggle/input/forest-fire-from-himawari8-satellite/Data/Test/1/1176.jpeg\n",
      "/kaggle/input/forest-fire-from-himawari8-satellite/Data/Test/1/114.jpeg\n",
      "/kaggle/input/forest-fire-from-himawari8-satellite/Data/Test/1/1181.jpeg\n",
      "/kaggle/input/forest-fire-from-himawari8-satellite/Data/Test/1/1133.jpeg\n",
      "/kaggle/input/forest-fire-from-himawari8-satellite/Data/Test/1/1150.jpeg\n",
      "/kaggle/input/forest-fire-from-himawari8-satellite/Data/Test/1/1169.jpeg\n",
      "/kaggle/input/forest-fire-from-himawari8-satellite/Data/Test/1/171.jpeg\n",
      "/kaggle/input/forest-fire-from-himawari8-satellite/Data/Test/1/1134.jpeg\n",
      "/kaggle/input/forest-fire-from-himawari8-satellite/Data/Test/1/1202.jpeg\n",
      "/kaggle/input/forest-fire-from-himawari8-satellite/Data/Test/1/198.jpeg\n",
      "/kaggle/input/forest-fire-from-himawari8-satellite/Data/Test/1/125.jpeg\n",
      "/kaggle/input/forest-fire-from-himawari8-satellite/Data/Test/1/167.jpeg\n",
      "/kaggle/input/forest-fire-from-himawari8-satellite/Data/Test/1/147.jpeg\n",
      "/kaggle/input/forest-fire-from-himawari8-satellite/Data/Test/1/1179.jpeg\n",
      "/kaggle/input/forest-fire-from-himawari8-satellite/Data/Test/1/199.jpeg\n",
      "/kaggle/input/forest-fire-from-himawari8-satellite/Data/Test/1/192.jpeg\n",
      "/kaggle/input/forest-fire-from-himawari8-satellite/Data/Test/1/112.jpeg\n",
      "/kaggle/input/forest-fire-from-himawari8-satellite/Data/Test/1/1166.jpeg\n",
      "/kaggle/input/forest-fire-from-himawari8-satellite/Data/Train/0/0115.png\n",
      "/kaggle/input/forest-fire-from-himawari8-satellite/Data/Train/0/0178.png\n",
      "/kaggle/input/forest-fire-from-himawari8-satellite/Data/Train/0/038.png\n",
      "/kaggle/input/forest-fire-from-himawari8-satellite/Data/Train/0/069.png\n",
      "/kaggle/input/forest-fire-from-himawari8-satellite/Data/Train/0/0139.png\n",
      "/kaggle/input/forest-fire-from-himawari8-satellite/Data/Train/0/0148.png\n",
      "/kaggle/input/forest-fire-from-himawari8-satellite/Data/Train/0/0185.png\n",
      "/kaggle/input/forest-fire-from-himawari8-satellite/Data/Train/0/074.png\n",
      "/kaggle/input/forest-fire-from-himawari8-satellite/Data/Train/0/027.png\n",
      "/kaggle/input/forest-fire-from-himawari8-satellite/Data/Train/0/0208.png\n",
      "/kaggle/input/forest-fire-from-himawari8-satellite/Data/Train/0/0153.png\n",
      "/kaggle/input/forest-fire-from-himawari8-satellite/Data/Train/0/053.png\n",
      "/kaggle/input/forest-fire-from-himawari8-satellite/Data/Train/0/0118.png\n",
      "/kaggle/input/forest-fire-from-himawari8-satellite/Data/Train/0/0180.png\n",
      "/kaggle/input/forest-fire-from-himawari8-satellite/Data/Train/0/061.png\n",
      "/kaggle/input/forest-fire-from-himawari8-satellite/Data/Train/0/0119.png\n",
      "/kaggle/input/forest-fire-from-himawari8-satellite/Data/Train/0/016.png\n",
      "/kaggle/input/forest-fire-from-himawari8-satellite/Data/Train/0/031.png\n",
      "/kaggle/input/forest-fire-from-himawari8-satellite/Data/Train/0/0122.png\n",
      "/kaggle/input/forest-fire-from-himawari8-satellite/Data/Train/0/0194.png\n",
      "/kaggle/input/forest-fire-from-himawari8-satellite/Data/Train/0/0189.png\n",
      "/kaggle/input/forest-fire-from-himawari8-satellite/Data/Train/0/013.png\n",
      "/kaggle/input/forest-fire-from-himawari8-satellite/Data/Train/0/046.png\n",
      "/kaggle/input/forest-fire-from-himawari8-satellite/Data/Train/0/0127.png\n",
      "/kaggle/input/forest-fire-from-himawari8-satellite/Data/Train/0/0157.png\n",
      "/kaggle/input/forest-fire-from-himawari8-satellite/Data/Train/0/042.png\n",
      "/kaggle/input/forest-fire-from-himawari8-satellite/Data/Train/0/024.png\n",
      "/kaggle/input/forest-fire-from-himawari8-satellite/Data/Train/0/0137.png\n",
      "/kaggle/input/forest-fire-from-himawari8-satellite/Data/Train/0/052.png\n",
      "/kaggle/input/forest-fire-from-himawari8-satellite/Data/Train/0/03.png\n",
      "/kaggle/input/forest-fire-from-himawari8-satellite/Data/Train/0/0140.png\n",
      "/kaggle/input/forest-fire-from-himawari8-satellite/Data/Train/0/057.png\n",
      "/kaggle/input/forest-fire-from-himawari8-satellite/Data/Train/0/090.png\n",
      "/kaggle/input/forest-fire-from-himawari8-satellite/Data/Train/0/017.png\n",
      "/kaggle/input/forest-fire-from-himawari8-satellite/Data/Train/0/0101.png\n",
      "/kaggle/input/forest-fire-from-himawari8-satellite/Data/Train/0/075.png\n",
      "/kaggle/input/forest-fire-from-himawari8-satellite/Data/Train/0/0106.png\n",
      "/kaggle/input/forest-fire-from-himawari8-satellite/Data/Train/0/0117.png\n",
      "/kaggle/input/forest-fire-from-himawari8-satellite/Data/Train/0/0132.png\n",
      "/kaggle/input/forest-fire-from-himawari8-satellite/Data/Train/0/0181.png\n",
      "/kaggle/input/forest-fire-from-himawari8-satellite/Data/Train/0/054.png\n",
      "/kaggle/input/forest-fire-from-himawari8-satellite/Data/Train/0/067.png\n",
      "/kaggle/input/forest-fire-from-himawari8-satellite/Data/Train/0/0103.png\n",
      "/kaggle/input/forest-fire-from-himawari8-satellite/Data/Train/0/033.png\n",
      "/kaggle/input/forest-fire-from-himawari8-satellite/Data/Train/0/0114.png\n",
      "/kaggle/input/forest-fire-from-himawari8-satellite/Data/Train/0/0169.png\n",
      "/kaggle/input/forest-fire-from-himawari8-satellite/Data/Train/0/0199.png\n",
      "/kaggle/input/forest-fire-from-himawari8-satellite/Data/Train/0/091.png\n",
      "/kaggle/input/forest-fire-from-himawari8-satellite/Data/Train/0/0165.png\n",
      "/kaggle/input/forest-fire-from-himawari8-satellite/Data/Train/0/049.png\n",
      "/kaggle/input/forest-fire-from-himawari8-satellite/Data/Train/0/070.png\n",
      "/kaggle/input/forest-fire-from-himawari8-satellite/Data/Train/0/064.png\n",
      "/kaggle/input/forest-fire-from-himawari8-satellite/Data/Train/0/0206.png\n",
      "/kaggle/input/forest-fire-from-himawari8-satellite/Data/Train/0/02.png\n",
      "/kaggle/input/forest-fire-from-himawari8-satellite/Data/Train/0/018.png\n",
      "/kaggle/input/forest-fire-from-himawari8-satellite/Data/Train/0/045.png\n",
      "/kaggle/input/forest-fire-from-himawari8-satellite/Data/Train/0/0125.png\n",
      "/kaggle/input/forest-fire-from-himawari8-satellite/Data/Train/0/08.png\n",
      "/kaggle/input/forest-fire-from-himawari8-satellite/Data/Train/0/0147.png\n",
      "/kaggle/input/forest-fire-from-himawari8-satellite/Data/Train/0/0162.png\n",
      "/kaggle/input/forest-fire-from-himawari8-satellite/Data/Train/0/0161.png\n",
      "/kaggle/input/forest-fire-from-himawari8-satellite/Data/Train/0/0142.png\n",
      "/kaggle/input/forest-fire-from-himawari8-satellite/Data/Train/0/0116.png\n",
      "/kaggle/input/forest-fire-from-himawari8-satellite/Data/Train/0/040.png\n",
      "/kaggle/input/forest-fire-from-himawari8-satellite/Data/Train/0/035.png\n",
      "/kaggle/input/forest-fire-from-himawari8-satellite/Data/Train/0/0166.png\n",
      "/kaggle/input/forest-fire-from-himawari8-satellite/Data/Train/0/094.png\n",
      "/kaggle/input/forest-fire-from-himawari8-satellite/Data/Train/0/0176.png\n",
      "/kaggle/input/forest-fire-from-himawari8-satellite/Data/Train/0/0207.png\n",
      "/kaggle/input/forest-fire-from-himawari8-satellite/Data/Train/0/068.png\n",
      "/kaggle/input/forest-fire-from-himawari8-satellite/Data/Train/0/0120.png\n",
      "/kaggle/input/forest-fire-from-himawari8-satellite/Data/Train/0/048.png\n",
      "/kaggle/input/forest-fire-from-himawari8-satellite/Data/Train/0/020.png\n",
      "/kaggle/input/forest-fire-from-himawari8-satellite/Data/Train/0/0150.png\n",
      "/kaggle/input/forest-fire-from-himawari8-satellite/Data/Train/0/071.png\n",
      "/kaggle/input/forest-fire-from-himawari8-satellite/Data/Train/0/0198.png\n",
      "/kaggle/input/forest-fire-from-himawari8-satellite/Data/Train/0/041.png\n",
      "/kaggle/input/forest-fire-from-himawari8-satellite/Data/Train/0/034.png\n",
      "/kaggle/input/forest-fire-from-himawari8-satellite/Data/Train/0/0113.png\n",
      "/kaggle/input/forest-fire-from-himawari8-satellite/Data/Train/0/079.png\n",
      "/kaggle/input/forest-fire-from-himawari8-satellite/Data/Train/0/0110.png\n",
      "/kaggle/input/forest-fire-from-himawari8-satellite/Data/Train/0/0143.png\n",
      "/kaggle/input/forest-fire-from-himawari8-satellite/Data/Train/0/0134.png\n",
      "/kaggle/input/forest-fire-from-himawari8-satellite/Data/Train/0/032.png\n",
      "/kaggle/input/forest-fire-from-himawari8-satellite/Data/Train/0/095.png\n",
      "/kaggle/input/forest-fire-from-himawari8-satellite/Data/Train/0/0130.png\n",
      "/kaggle/input/forest-fire-from-himawari8-satellite/Data/Train/0/055.png\n",
      "/kaggle/input/forest-fire-from-himawari8-satellite/Data/Train/0/037.png\n",
      "/kaggle/input/forest-fire-from-himawari8-satellite/Data/Train/0/0128.png\n",
      "/kaggle/input/forest-fire-from-himawari8-satellite/Data/Train/0/029.png\n",
      "/kaggle/input/forest-fire-from-himawari8-satellite/Data/Train/0/06.png\n",
      "/kaggle/input/forest-fire-from-himawari8-satellite/Data/Train/0/0156.png\n",
      "/kaggle/input/forest-fire-from-himawari8-satellite/Data/Train/0/088.png\n",
      "/kaggle/input/forest-fire-from-himawari8-satellite/Data/Train/0/0144.png\n",
      "/kaggle/input/forest-fire-from-himawari8-satellite/Data/Train/0/028.png\n",
      "/kaggle/input/forest-fire-from-himawari8-satellite/Data/Train/0/0123.png\n",
      "/kaggle/input/forest-fire-from-himawari8-satellite/Data/Train/0/066.png\n",
      "/kaggle/input/forest-fire-from-himawari8-satellite/Data/Train/0/073.png\n",
      "/kaggle/input/forest-fire-from-himawari8-satellite/Data/Train/0/019.png\n",
      "/kaggle/input/forest-fire-from-himawari8-satellite/Data/Train/0/0205.png\n",
      "/kaggle/input/forest-fire-from-himawari8-satellite/Data/Train/0/036.png\n",
      "/kaggle/input/forest-fire-from-himawari8-satellite/Data/Train/0/0195.png\n",
      "/kaggle/input/forest-fire-from-himawari8-satellite/Data/Train/0/0179.png\n",
      "/kaggle/input/forest-fire-from-himawari8-satellite/Data/Train/0/0201.png\n",
      "/kaggle/input/forest-fire-from-himawari8-satellite/Data/Train/0/0175.png\n",
      "/kaggle/input/forest-fire-from-himawari8-satellite/Data/Train/0/0136.png\n",
      "/kaggle/input/forest-fire-from-himawari8-satellite/Data/Train/0/060.png\n",
      "/kaggle/input/forest-fire-from-himawari8-satellite/Data/Train/0/0111.png\n",
      "/kaggle/input/forest-fire-from-himawari8-satellite/Data/Train/0/0138.png\n",
      "/kaggle/input/forest-fire-from-himawari8-satellite/Data/Train/0/063.png\n",
      "/kaggle/input/forest-fire-from-himawari8-satellite/Data/Train/0/022.png\n",
      "/kaggle/input/forest-fire-from-himawari8-satellite/Data/Train/0/0155.png\n",
      "/kaggle/input/forest-fire-from-himawari8-satellite/Data/Train/0/0100.png\n",
      "/kaggle/input/forest-fire-from-himawari8-satellite/Data/Train/0/030.png\n",
      "/kaggle/input/forest-fire-from-himawari8-satellite/Data/Train/0/080.png\n",
      "/kaggle/input/forest-fire-from-himawari8-satellite/Data/Train/0/056.png\n",
      "/kaggle/input/forest-fire-from-himawari8-satellite/Data/Train/0/07.png\n",
      "/kaggle/input/forest-fire-from-himawari8-satellite/Data/Train/0/072.png\n",
      "/kaggle/input/forest-fire-from-himawari8-satellite/Data/Train/0/044.png\n",
      "/kaggle/input/forest-fire-from-himawari8-satellite/Data/Train/0/086.png\n",
      "/kaggle/input/forest-fire-from-himawari8-satellite/Data/Train/0/0149.png\n",
      "/kaggle/input/forest-fire-from-himawari8-satellite/Data/Train/0/0182.png\n",
      "/kaggle/input/forest-fire-from-himawari8-satellite/Data/Train/0/0154.png\n",
      "/kaggle/input/forest-fire-from-himawari8-satellite/Data/Train/0/047.png\n",
      "/kaggle/input/forest-fire-from-himawari8-satellite/Data/Train/0/0190.png\n",
      "/kaggle/input/forest-fire-from-himawari8-satellite/Data/Train/0/097.png\n",
      "/kaggle/input/forest-fire-from-himawari8-satellite/Data/Train/0/0174.png\n",
      "/kaggle/input/forest-fire-from-himawari8-satellite/Data/Train/0/087.png\n",
      "/kaggle/input/forest-fire-from-himawari8-satellite/Data/Train/0/077.png\n",
      "/kaggle/input/forest-fire-from-himawari8-satellite/Data/Train/0/012.png\n",
      "/kaggle/input/forest-fire-from-himawari8-satellite/Data/Train/0/085.png\n",
      "/kaggle/input/forest-fire-from-himawari8-satellite/Data/Train/0/082.png\n",
      "/kaggle/input/forest-fire-from-himawari8-satellite/Data/Train/0/0102.png\n",
      "/kaggle/input/forest-fire-from-himawari8-satellite/Data/Train/0/0186.png\n",
      "/kaggle/input/forest-fire-from-himawari8-satellite/Data/Train/0/0191.png\n",
      "/kaggle/input/forest-fire-from-himawari8-satellite/Data/Train/0/065.png\n",
      "/kaggle/input/forest-fire-from-himawari8-satellite/Data/Train/0/0172.png\n",
      "/kaggle/input/forest-fire-from-himawari8-satellite/Data/Train/0/0135.png\n",
      "/kaggle/input/forest-fire-from-himawari8-satellite/Data/Train/0/0107.png\n",
      "/kaggle/input/forest-fire-from-himawari8-satellite/Data/Train/0/0204.png\n",
      "/kaggle/input/forest-fire-from-himawari8-satellite/Data/Train/0/0170.png\n",
      "/kaggle/input/forest-fire-from-himawari8-satellite/Data/Train/0/0112.png\n",
      "/kaggle/input/forest-fire-from-himawari8-satellite/Data/Train/0/0109.png\n",
      "/kaggle/input/forest-fire-from-himawari8-satellite/Data/Train/0/0151.png\n",
      "/kaggle/input/forest-fire-from-himawari8-satellite/Data/Train/0/062.png\n",
      "/kaggle/input/forest-fire-from-himawari8-satellite/Data/Train/0/0200.png\n",
      "/kaggle/input/forest-fire-from-himawari8-satellite/Data/Train/0/0145.png\n",
      "/kaggle/input/forest-fire-from-himawari8-satellite/Data/Train/0/096.png\n",
      "/kaggle/input/forest-fire-from-himawari8-satellite/Data/Train/0/0188.png\n",
      "/kaggle/input/forest-fire-from-himawari8-satellite/Data/Train/0/0104.png\n",
      "/kaggle/input/forest-fire-from-himawari8-satellite/Data/Train/0/084.png\n",
      "/kaggle/input/forest-fire-from-himawari8-satellite/Data/Train/0/0141.png\n",
      "/kaggle/input/forest-fire-from-himawari8-satellite/Data/Train/0/099.png\n",
      "/kaggle/input/forest-fire-from-himawari8-satellite/Data/Train/0/050.png\n",
      "/kaggle/input/forest-fire-from-himawari8-satellite/Data/Train/0/010.png\n",
      "/kaggle/input/forest-fire-from-himawari8-satellite/Data/Train/0/021.png\n",
      "/kaggle/input/forest-fire-from-himawari8-satellite/Data/Train/0/0164.png\n",
      "/kaggle/input/forest-fire-from-himawari8-satellite/Data/Train/0/0168.png\n",
      "/kaggle/input/forest-fire-from-himawari8-satellite/Data/Train/0/0158.png\n",
      "/kaggle/input/forest-fire-from-himawari8-satellite/Data/Train/0/058.png\n",
      "/kaggle/input/forest-fire-from-himawari8-satellite/Data/Train/0/014.png\n",
      "/kaggle/input/forest-fire-from-himawari8-satellite/Data/Train/0/04.png\n",
      "/kaggle/input/forest-fire-from-himawari8-satellite/Data/Train/0/05.png\n",
      "/kaggle/input/forest-fire-from-himawari8-satellite/Data/Train/1/14.jpeg\n",
      "/kaggle/input/forest-fire-from-himawari8-satellite/Data/Train/1/1175.jpeg\n",
      "/kaggle/input/forest-fire-from-himawari8-satellite/Data/Train/1/1141.jpeg\n",
      "/kaggle/input/forest-fire-from-himawari8-satellite/Data/Train/1/1167.jpeg\n",
      "/kaggle/input/forest-fire-from-himawari8-satellite/Data/Train/1/130.jpeg\n",
      "/kaggle/input/forest-fire-from-himawari8-satellite/Data/Train/1/18.jpeg\n",
      "/kaggle/input/forest-fire-from-himawari8-satellite/Data/Train/1/155.jpeg\n",
      "/kaggle/input/forest-fire-from-himawari8-satellite/Data/Train/1/152.jpeg\n",
      "/kaggle/input/forest-fire-from-himawari8-satellite/Data/Train/1/1203.jpeg\n",
      "/kaggle/input/forest-fire-from-himawari8-satellite/Data/Train/1/1117.jpeg\n",
      "/kaggle/input/forest-fire-from-himawari8-satellite/Data/Train/1/16.jpeg\n",
      "/kaggle/input/forest-fire-from-himawari8-satellite/Data/Train/1/124.jpeg\n",
      "/kaggle/input/forest-fire-from-himawari8-satellite/Data/Train/1/139.jpeg\n",
      "/kaggle/input/forest-fire-from-himawari8-satellite/Data/Train/1/1168.jpeg\n",
      "/kaggle/input/forest-fire-from-himawari8-satellite/Data/Train/1/1187.jpeg\n",
      "/kaggle/input/forest-fire-from-himawari8-satellite/Data/Train/1/1180.jpeg\n",
      "/kaggle/input/forest-fire-from-himawari8-satellite/Data/Train/1/1119.jpeg\n",
      "/kaggle/input/forest-fire-from-himawari8-satellite/Data/Train/1/111.jpeg\n",
      "/kaggle/input/forest-fire-from-himawari8-satellite/Data/Train/1/148.jpeg\n",
      "/kaggle/input/forest-fire-from-himawari8-satellite/Data/Train/1/197.jpeg\n",
      "/kaggle/input/forest-fire-from-himawari8-satellite/Data/Train/1/1184.jpeg\n",
      "/kaggle/input/forest-fire-from-himawari8-satellite/Data/Train/1/115.jpeg\n",
      "/kaggle/input/forest-fire-from-himawari8-satellite/Data/Train/1/170.jpeg\n",
      "/kaggle/input/forest-fire-from-himawari8-satellite/Data/Train/1/1110.jpeg\n",
      "/kaggle/input/forest-fire-from-himawari8-satellite/Data/Train/1/1142.jpeg\n",
      "/kaggle/input/forest-fire-from-himawari8-satellite/Data/Train/1/131.jpeg\n",
      "/kaggle/input/forest-fire-from-himawari8-satellite/Data/Train/1/194.jpeg\n",
      "/kaggle/input/forest-fire-from-himawari8-satellite/Data/Train/1/1139.jpeg\n",
      "/kaggle/input/forest-fire-from-himawari8-satellite/Data/Train/1/144.jpeg\n",
      "/kaggle/input/forest-fire-from-himawari8-satellite/Data/Train/1/1157.jpeg\n",
      "/kaggle/input/forest-fire-from-himawari8-satellite/Data/Train/1/196.jpeg\n",
      "/kaggle/input/forest-fire-from-himawari8-satellite/Data/Train/1/156.jpeg\n",
      "/kaggle/input/forest-fire-from-himawari8-satellite/Data/Train/1/1152.jpeg\n",
      "/kaggle/input/forest-fire-from-himawari8-satellite/Data/Train/1/189.jpeg\n",
      "/kaggle/input/forest-fire-from-himawari8-satellite/Data/Train/1/175.jpeg\n",
      "/kaggle/input/forest-fire-from-himawari8-satellite/Data/Train/1/146.jpeg\n",
      "/kaggle/input/forest-fire-from-himawari8-satellite/Data/Train/1/126.jpeg\n",
      "/kaggle/input/forest-fire-from-himawari8-satellite/Data/Train/1/1146.jpeg\n",
      "/kaggle/input/forest-fire-from-himawari8-satellite/Data/Train/1/1104.jpeg\n",
      "/kaggle/input/forest-fire-from-himawari8-satellite/Data/Train/1/1136.jpeg\n",
      "/kaggle/input/forest-fire-from-himawari8-satellite/Data/Train/1/1196.jpeg\n",
      "/kaggle/input/forest-fire-from-himawari8-satellite/Data/Train/1/1177.jpeg\n",
      "/kaggle/input/forest-fire-from-himawari8-satellite/Data/Train/1/1113.jpeg\n",
      "/kaggle/input/forest-fire-from-himawari8-satellite/Data/Train/1/1200.jpeg\n",
      "/kaggle/input/forest-fire-from-himawari8-satellite/Data/Train/1/1101.jpeg\n",
      "/kaggle/input/forest-fire-from-himawari8-satellite/Data/Train/1/113.jpeg\n",
      "/kaggle/input/forest-fire-from-himawari8-satellite/Data/Train/1/160.jpeg\n",
      "/kaggle/input/forest-fire-from-himawari8-satellite/Data/Train/1/153.jpeg\n",
      "/kaggle/input/forest-fire-from-himawari8-satellite/Data/Train/1/1102.jpeg\n",
      "/kaggle/input/forest-fire-from-himawari8-satellite/Data/Train/1/1127.jpeg\n",
      "/kaggle/input/forest-fire-from-himawari8-satellite/Data/Train/1/1100.jpeg\n",
      "/kaggle/input/forest-fire-from-himawari8-satellite/Data/Train/1/1138.jpeg\n",
      "/kaggle/input/forest-fire-from-himawari8-satellite/Data/Train/1/172.jpeg\n",
      "/kaggle/input/forest-fire-from-himawari8-satellite/Data/Train/1/1154.jpeg\n",
      "/kaggle/input/forest-fire-from-himawari8-satellite/Data/Train/1/1182.jpeg\n",
      "/kaggle/input/forest-fire-from-himawari8-satellite/Data/Train/1/1137.jpeg\n",
      "/kaggle/input/forest-fire-from-himawari8-satellite/Data/Train/1/19.jpeg\n",
      "/kaggle/input/forest-fire-from-himawari8-satellite/Data/Train/1/178.jpeg\n",
      "/kaggle/input/forest-fire-from-himawari8-satellite/Data/Train/1/1191.jpeg\n",
      "/kaggle/input/forest-fire-from-himawari8-satellite/Data/Train/1/184.jpeg\n",
      "/kaggle/input/forest-fire-from-himawari8-satellite/Data/Train/1/1194.jpeg\n",
      "/kaggle/input/forest-fire-from-himawari8-satellite/Data/Train/1/120.jpeg\n",
      "/kaggle/input/forest-fire-from-himawari8-satellite/Data/Train/1/164.jpeg\n",
      "/kaggle/input/forest-fire-from-himawari8-satellite/Data/Train/1/119.jpeg\n",
      "/kaggle/input/forest-fire-from-himawari8-satellite/Data/Train/1/116.jpeg\n",
      "/kaggle/input/forest-fire-from-himawari8-satellite/Data/Train/1/161.jpeg\n",
      "/kaggle/input/forest-fire-from-himawari8-satellite/Data/Train/1/142.jpeg\n",
      "/kaggle/input/forest-fire-from-himawari8-satellite/Data/Train/1/1155.jpeg\n",
      "/kaggle/input/forest-fire-from-himawari8-satellite/Data/Train/1/157.jpeg\n",
      "/kaggle/input/forest-fire-from-himawari8-satellite/Data/Train/1/132.jpeg\n",
      "/kaggle/input/forest-fire-from-himawari8-satellite/Data/Train/1/1144.jpeg\n",
      "/kaggle/input/forest-fire-from-himawari8-satellite/Data/Train/1/154.jpeg\n",
      "/kaggle/input/forest-fire-from-himawari8-satellite/Data/Train/1/149.jpeg\n",
      "/kaggle/input/forest-fire-from-himawari8-satellite/Data/Train/1/127.jpeg\n",
      "/kaggle/input/forest-fire-from-himawari8-satellite/Data/Train/1/183.jpeg\n",
      "/kaggle/input/forest-fire-from-himawari8-satellite/Data/Train/1/1192.jpeg\n",
      "/kaggle/input/forest-fire-from-himawari8-satellite/Data/Train/1/145.jpeg\n",
      "/kaggle/input/forest-fire-from-himawari8-satellite/Data/Train/1/186.jpeg\n",
      "/kaggle/input/forest-fire-from-himawari8-satellite/Data/Train/1/1131.jpeg\n",
      "/kaggle/input/forest-fire-from-himawari8-satellite/Data/Train/1/1143.jpeg\n",
      "/kaggle/input/forest-fire-from-himawari8-satellite/Data/Train/1/180.jpeg\n",
      "/kaggle/input/forest-fire-from-himawari8-satellite/Data/Train/1/1148.jpeg\n",
      "/kaggle/input/forest-fire-from-himawari8-satellite/Data/Train/1/188.jpeg\n",
      "/kaggle/input/forest-fire-from-himawari8-satellite/Data/Train/1/129.jpeg\n",
      "/kaggle/input/forest-fire-from-himawari8-satellite/Data/Train/1/121.jpeg\n",
      "/kaggle/input/forest-fire-from-himawari8-satellite/Data/Train/1/1118.jpeg\n",
      "/kaggle/input/forest-fire-from-himawari8-satellite/Data/Train/1/177.jpeg\n",
      "/kaggle/input/forest-fire-from-himawari8-satellite/Data/Train/1/1160.jpeg\n",
      "/kaggle/input/forest-fire-from-himawari8-satellite/Data/Train/1/1197.jpeg\n",
      "/kaggle/input/forest-fire-from-himawari8-satellite/Data/Train/1/137.jpeg\n",
      "/kaggle/input/forest-fire-from-himawari8-satellite/Data/Train/1/1147.jpeg\n",
      "/kaggle/input/forest-fire-from-himawari8-satellite/Data/Train/1/1158.jpeg\n",
      "/kaggle/input/forest-fire-from-himawari8-satellite/Data/Train/1/135.jpeg\n",
      "/kaggle/input/forest-fire-from-himawari8-satellite/Data/Train/1/1.jpeg\n",
      "/kaggle/input/forest-fire-from-himawari8-satellite/Data/Train/1/182.jpeg\n",
      "/kaggle/input/forest-fire-from-himawari8-satellite/Data/Train/1/174.jpeg\n",
      "/kaggle/input/forest-fire-from-himawari8-satellite/Data/Train/1/162.jpeg\n",
      "/kaggle/input/forest-fire-from-himawari8-satellite/Data/Train/1/1178.jpeg\n",
      "/kaggle/input/forest-fire-from-himawari8-satellite/Data/Train/1/1190.jpeg\n",
      "/kaggle/input/forest-fire-from-himawari8-satellite/Data/Train/1/17.jpeg\n",
      "/kaggle/input/forest-fire-from-himawari8-satellite/Data/Train/1/176.jpeg\n",
      "/kaggle/input/forest-fire-from-himawari8-satellite/Data/Train/1/195.jpeg\n",
      "/kaggle/input/forest-fire-from-himawari8-satellite/Data/Train/1/1149.jpeg\n",
      "/kaggle/input/forest-fire-from-himawari8-satellite/Data/Train/1/193.jpeg\n",
      "/kaggle/input/forest-fire-from-himawari8-satellite/Data/Train/1/1125.jpeg\n",
      "/kaggle/input/forest-fire-from-himawari8-satellite/Data/Train/1/122.jpeg\n",
      "/kaggle/input/forest-fire-from-himawari8-satellite/Data/Train/1/123.jpeg\n",
      "/kaggle/input/forest-fire-from-himawari8-satellite/Data/Train/1/159.jpeg\n",
      "/kaggle/input/forest-fire-from-himawari8-satellite/Data/Train/1/1189.jpeg\n",
      "/kaggle/input/forest-fire-from-himawari8-satellite/Data/Train/1/1198.jpeg\n",
      "/kaggle/input/forest-fire-from-himawari8-satellite/Data/Train/1/1108.jpeg\n",
      "/kaggle/input/forest-fire-from-himawari8-satellite/Data/Train/1/1140.jpeg\n",
      "/kaggle/input/forest-fire-from-himawari8-satellite/Data/Train/1/1126.jpeg\n",
      "/kaggle/input/forest-fire-from-himawari8-satellite/Data/Train/1/13.jpeg\n",
      "/kaggle/input/forest-fire-from-himawari8-satellite/Data/Train/1/1120.jpeg\n",
      "/kaggle/input/forest-fire-from-himawari8-satellite/Data/Train/1/1165.jpeg\n",
      "/kaggle/input/forest-fire-from-himawari8-satellite/Data/Train/1/1186.jpeg\n",
      "/kaggle/input/forest-fire-from-himawari8-satellite/Data/Train/1/165.jpeg\n",
      "/kaggle/input/forest-fire-from-himawari8-satellite/Data/Train/1/1109.jpeg\n",
      "/kaggle/input/forest-fire-from-himawari8-satellite/Data/Train/1/1116.jpeg\n",
      "/kaggle/input/forest-fire-from-himawari8-satellite/Data/Train/1/169.jpeg\n",
      "/kaggle/input/forest-fire-from-himawari8-satellite/Data/Train/1/15.jpeg\n",
      "/kaggle/input/forest-fire-from-himawari8-satellite/Data/Train/1/1183.jpeg\n",
      "/kaggle/input/forest-fire-from-himawari8-satellite/Data/Train/1/150.jpeg\n",
      "/kaggle/input/forest-fire-from-himawari8-satellite/Data/Train/1/1106.jpeg\n",
      "/kaggle/input/forest-fire-from-himawari8-satellite/Data/Train/1/1170.jpeg\n",
      "/kaggle/input/forest-fire-from-himawari8-satellite/Data/Train/1/1162.jpeg\n",
      "/kaggle/input/forest-fire-from-himawari8-satellite/Data/Train/1/151.jpeg\n",
      "/kaggle/input/forest-fire-from-himawari8-satellite/Data/Train/1/1128.jpeg\n",
      "/kaggle/input/forest-fire-from-himawari8-satellite/Data/Train/1/117.jpeg\n",
      "/kaggle/input/forest-fire-from-himawari8-satellite/Data/Train/1/1124.jpeg\n",
      "/kaggle/input/forest-fire-from-himawari8-satellite/Data/Train/1/173.jpeg\n",
      "/kaggle/input/forest-fire-from-himawari8-satellite/Data/Train/1/143.jpeg\n",
      "/kaggle/input/forest-fire-from-himawari8-satellite/Data/Train/1/185.jpeg\n",
      "/kaggle/input/forest-fire-from-himawari8-satellite/Data/Train/1/1122.jpeg\n",
      "/kaggle/input/forest-fire-from-himawari8-satellite/Data/Train/1/140.jpeg\n",
      "/kaggle/input/forest-fire-from-himawari8-satellite/Data/Train/1/134.jpeg\n",
      "/kaggle/input/forest-fire-from-himawari8-satellite/Data/Train/1/1145.jpeg\n",
      "/kaggle/input/forest-fire-from-himawari8-satellite/Data/Train/1/1171.jpeg\n",
      "/kaggle/input/forest-fire-from-himawari8-satellite/Data/Train/1/136.jpeg\n",
      "/kaggle/input/forest-fire-from-himawari8-satellite/Data/Train/1/1188.jpeg\n",
      "/kaggle/input/forest-fire-from-himawari8-satellite/Data/Train/1/1201.jpeg\n",
      "/kaggle/input/forest-fire-from-himawari8-satellite/Data/Train/1/1195.jpeg\n",
      "/kaggle/input/forest-fire-from-himawari8-satellite/Data/Train/1/12.jpeg\n",
      "/kaggle/input/forest-fire-from-himawari8-satellite/Data/Train/1/1193.jpeg\n",
      "/kaggle/input/forest-fire-from-himawari8-satellite/Data/Train/1/191.jpeg\n",
      "/kaggle/input/forest-fire-from-himawari8-satellite/Data/Train/1/1174.jpeg\n",
      "/kaggle/input/forest-fire-from-himawari8-satellite/Data/Train/1/181.jpeg\n",
      "/kaggle/input/forest-fire-from-himawari8-satellite/Data/Train/1/1135.jpeg\n",
      "/kaggle/input/forest-fire-from-himawari8-satellite/Data/Train/1/1107.jpeg\n",
      "/kaggle/input/forest-fire-from-himawari8-satellite/Data/Train/1/1185.jpeg\n",
      "/kaggle/input/forest-fire-from-himawari8-satellite/Data/Train/1/128.jpeg\n",
      "/kaggle/input/forest-fire-from-himawari8-satellite/Data/Train/1/1112.jpeg\n",
      "/kaggle/input/forest-fire-from-himawari8-satellite/Data/Train/1/1121.jpeg\n",
      "/kaggle/input/forest-fire-from-himawari8-satellite/Data/Train/1/1173.jpeg\n",
      "/kaggle/input/forest-fire-from-himawari8-satellite/Data/Train/1/141.jpeg\n",
      "/kaggle/input/forest-fire-from-himawari8-satellite/Data/Train/1/168.jpeg\n",
      "/kaggle/input/forest-fire-from-himawari8-satellite/Data/Train/1/133.jpeg\n",
      "/kaggle/input/forest-fire-from-himawari8-satellite/Data/Train/1/1123.jpeg\n",
      "/kaggle/input/forest-fire-from-himawari8-satellite/Data/Train/1/187.jpeg\n",
      "/kaggle/input/forest-fire-from-himawari8-satellite/Data/Train/1/1161.jpeg\n",
      "/kaggle/input/forest-fire-from-himawari8-satellite/Data/Train/1/1159.jpeg\n",
      "/kaggle/input/forest-fire-from-himawari8-satellite/Data/Train/1/1156.jpeg\n"
     ]
    }
   ],
   "source": [
    "# This Python 3 environment comes with many helpful analytics libraries installed\n",
    "# It is defined by the kaggle/python Docker image: https://github.com/kaggle/docker-python\n",
    "# For example, here's several helpful packages to load\n",
    "\n",
    "import numpy as np # linear algebra\n",
    "import pandas as pd # data processing, CSV file I/O (e.g. pd.read_csv)\n",
    "\n",
    "# Input data files are available in the read-only \"../input/\" directory\n",
    "# For example, running this (by clicking run or pressing Shift+Enter) will list all files under the input directory\n",
    "\n",
    "import os\n",
    "for dirname, _, filenames in os.walk('/kaggle/input'):\n",
    "    for filename in filenames:\n",
    "        print(os.path.join(dirname, filename))\n",
    "\n",
    "# You can write up to 20GB to the current directory (/kaggle/working/) that gets preserved as output when you create a version using \"Save & Run All\" \n",
    "# You can also write temporary files to /kaggle/temp/, but they won't be saved outside of the current session"
   ]
  },
  {
   "cell_type": "code",
   "execution_count": 2,
   "id": "49d1a6e0",
   "metadata": {
    "execution": {
     "iopub.execute_input": "2025-07-24T16:17:30.080758Z",
     "iopub.status.busy": "2025-07-24T16:17:30.080125Z",
     "iopub.status.idle": "2025-07-24T16:17:45.439347Z",
     "shell.execute_reply": "2025-07-24T16:17:45.438102Z"
    },
    "papermill": {
     "duration": 15.364977,
     "end_time": "2025-07-24T16:17:45.441357",
     "exception": false,
     "start_time": "2025-07-24T16:17:30.076380",
     "status": "completed"
    },
    "tags": []
   },
   "outputs": [
    {
     "name": "stderr",
     "output_type": "stream",
     "text": [
      "2025-07-24 16:17:31.775071: E external/local_xla/xla/stream_executor/cuda/cuda_fft.cc:477] Unable to register cuFFT factory: Attempting to register factory for plugin cuFFT when one has already been registered\n",
      "WARNING: All log messages before absl::InitializeLog() is called are written to STDERR\n",
      "E0000 00:00:1753373851.983166      19 cuda_dnn.cc:8310] Unable to register cuDNN factory: Attempting to register factory for plugin cuDNN when one has already been registered\n",
      "E0000 00:00:1753373852.039885      19 cuda_blas.cc:1418] Unable to register cuBLAS factory: Attempting to register factory for plugin cuBLAS when one has already been registered\n"
     ]
    }
   ],
   "source": [
    "import tensorflow as tf\n",
    "from tensorflow.keras import layers, models\n",
    "from tensorflow.keras.preprocessing.image import ImageDataGenerator\n",
    "import matplotlib.pyplot as plt"
   ]
  },
  {
   "cell_type": "markdown",
   "id": "3298408c",
   "metadata": {
    "papermill": {
     "duration": 0.004037,
     "end_time": "2025-07-24T16:17:45.450144",
     "exception": false,
     "start_time": "2025-07-24T16:17:45.446107",
     "status": "completed"
    },
    "tags": []
   },
   "source": [
    "Importing the dataset and normalize images"
   ]
  },
  {
   "cell_type": "code",
   "execution_count": 3,
   "id": "f8a73bed",
   "metadata": {
    "execution": {
     "iopub.execute_input": "2025-07-24T16:17:45.457284Z",
     "iopub.status.busy": "2025-07-24T16:17:45.456804Z",
     "iopub.status.idle": "2025-07-24T16:17:45.600457Z",
     "shell.execute_reply": "2025-07-24T16:17:45.599674Z"
    },
    "papermill": {
     "duration": 0.149007,
     "end_time": "2025-07-24T16:17:45.602217",
     "exception": false,
     "start_time": "2025-07-24T16:17:45.453210",
     "status": "completed"
    },
    "tags": []
   },
   "outputs": [
    {
     "name": "stdout",
     "output_type": "stream",
     "text": [
      "Found 326 images belonging to 2 classes.\n",
      "Found 80 images belonging to 2 classes.\n"
     ]
    }
   ],
   "source": [
    "train_dir = '/kaggle/input/forest-fire-from-himawari8-satellite/Data/Train'\n",
    "test_dir = '/kaggle/input/forest-fire-from-himawari8-satellite/Data/Test'\n",
    "\n",
    "train_datagen = ImageDataGenerator(rescale=1./255)  \n",
    "test_datagen = ImageDataGenerator(rescale=1./255)\n",
    "\n",
    "train_generator = train_datagen.flow_from_directory(\n",
    "    train_dir,\n",
    "    target_size=(128, 128),  \n",
    "    batch_size=32,\n",
    "    class_mode='binary'  \n",
    ")\n",
    "\n",
    "test_generator = test_datagen.flow_from_directory(\n",
    "    test_dir,\n",
    "    target_size=(128, 128),\n",
    "    batch_size=32,\n",
    "    class_mode='binary'\n",
    ")"
   ]
  },
  {
   "cell_type": "markdown",
   "id": "26c3edc1",
   "metadata": {
    "papermill": {
     "duration": 0.004898,
     "end_time": "2025-07-24T16:17:45.612835",
     "exception": false,
     "start_time": "2025-07-24T16:17:45.607937",
     "status": "completed"
    },
    "tags": []
   },
   "source": [
    "Creating model"
   ]
  },
  {
   "cell_type": "code",
   "execution_count": 4,
   "id": "bd69e412",
   "metadata": {
    "execution": {
     "iopub.execute_input": "2025-07-24T16:17:45.623077Z",
     "iopub.status.busy": "2025-07-24T16:17:45.622783Z",
     "iopub.status.idle": "2025-07-24T16:17:47.979878Z",
     "shell.execute_reply": "2025-07-24T16:17:47.979164Z"
    },
    "papermill": {
     "duration": 2.363898,
     "end_time": "2025-07-24T16:17:47.981425",
     "exception": false,
     "start_time": "2025-07-24T16:17:45.617527",
     "status": "completed"
    },
    "tags": []
   },
   "outputs": [
    {
     "name": "stderr",
     "output_type": "stream",
     "text": [
      "/usr/local/lib/python3.11/dist-packages/keras/src/layers/convolutional/base_conv.py:107: UserWarning: Do not pass an `input_shape`/`input_dim` argument to a layer. When using Sequential models, prefer using an `Input(shape)` object as the first layer in the model instead.\n",
      "  super().__init__(activity_regularizer=activity_regularizer, **kwargs)\n",
      "I0000 00:00:1753373866.550174      19 gpu_device.cc:2022] Created device /job:localhost/replica:0/task:0/device:GPU:0 with 15513 MB memory:  -> device: 0, name: Tesla P100-PCIE-16GB, pci bus id: 0000:00:04.0, compute capability: 6.0\n"
     ]
    }
   ],
   "source": [
    "model = models.Sequential([\n",
    "    layers.Conv2D(32, (3, 3), activation='relu', input_shape=(128, 128, 3)),\n",
    "    layers.MaxPooling2D(2, 2),\n",
    "\n",
    "    layers.Conv2D(64, (3, 3), activation='relu'),\n",
    "    layers.MaxPooling2D(2, 2),\n",
    "\n",
    "    layers.Conv2D(128, (3, 3), activation='relu'),\n",
    "    layers.MaxPooling2D(2, 2),\n",
    "\n",
    "    layers.Flatten(),\n",
    "    layers.Dense(128, activation='relu'),\n",
    "    layers.Dense(1, activation='sigmoid')  \n",
    "])"
   ]
  },
  {
   "cell_type": "markdown",
   "id": "73364a98",
   "metadata": {
    "papermill": {
     "duration": 0.00378,
     "end_time": "2025-07-24T16:17:47.992017",
     "exception": false,
     "start_time": "2025-07-24T16:17:47.988237",
     "status": "completed"
    },
    "tags": []
   },
   "source": [
    "Compileing the model"
   ]
  },
  {
   "cell_type": "code",
   "execution_count": 5,
   "id": "add7f748",
   "metadata": {
    "execution": {
     "iopub.execute_input": "2025-07-24T16:17:48.000733Z",
     "iopub.status.busy": "2025-07-24T16:17:48.000085Z",
     "iopub.status.idle": "2025-07-24T16:17:48.014294Z",
     "shell.execute_reply": "2025-07-24T16:17:48.013424Z"
    },
    "papermill": {
     "duration": 0.020111,
     "end_time": "2025-07-24T16:17:48.015816",
     "exception": false,
     "start_time": "2025-07-24T16:17:47.995705",
     "status": "completed"
    },
    "tags": []
   },
   "outputs": [],
   "source": [
    "model.compile(optimizer='adam',\n",
    "              loss='binary_crossentropy',\n",
    "              metrics=['accuracy'])"
   ]
  },
  {
   "cell_type": "markdown",
   "id": "f180a6dc",
   "metadata": {
    "papermill": {
     "duration": 0.003283,
     "end_time": "2025-07-24T16:17:48.022590",
     "exception": false,
     "start_time": "2025-07-24T16:17:48.019307",
     "status": "completed"
    },
    "tags": []
   },
   "source": [
    "Model training"
   ]
  },
  {
   "cell_type": "code",
   "execution_count": 6,
   "id": "b5b86f67",
   "metadata": {
    "execution": {
     "iopub.execute_input": "2025-07-24T16:17:48.030466Z",
     "iopub.status.busy": "2025-07-24T16:17:48.029888Z",
     "iopub.status.idle": "2025-07-24T16:23:45.861666Z",
     "shell.execute_reply": "2025-07-24T16:23:45.860751Z"
    },
    "papermill": {
     "duration": 357.83728,
     "end_time": "2025-07-24T16:23:45.863141",
     "exception": false,
     "start_time": "2025-07-24T16:17:48.025861",
     "status": "completed"
    },
    "tags": []
   },
   "outputs": [
    {
     "name": "stderr",
     "output_type": "stream",
     "text": [
      "/usr/local/lib/python3.11/dist-packages/keras/src/trainers/data_adapters/py_dataset_adapter.py:121: UserWarning: Your `PyDataset` class should call `super().__init__(**kwargs)` in its constructor. `**kwargs` can include `workers`, `use_multiprocessing`, `max_queue_size`. Do not pass these arguments to `fit()`, as they will be ignored.\n",
      "  self._warn_if_super_not_called()\n"
     ]
    },
    {
     "name": "stdout",
     "output_type": "stream",
     "text": [
      "Epoch 1/10\n"
     ]
    },
    {
     "name": "stderr",
     "output_type": "stream",
     "text": [
      "WARNING: All log messages before absl::InitializeLog() is called are written to STDERR\n",
      "I0000 00:00:1753373882.815487      73 service.cc:148] XLA service 0x7ddf00006d50 initialized for platform CUDA (this does not guarantee that XLA will be used). Devices:\n",
      "I0000 00:00:1753373882.816323      73 service.cc:156]   StreamExecutor device (0): Tesla P100-PCIE-16GB, Compute Capability 6.0\n",
      "I0000 00:00:1753373883.208739      73 cuda_dnn.cc:529] Loaded cuDNN version 90300\n"
     ]
    },
    {
     "name": "stdout",
     "output_type": "stream",
     "text": [
      "\u001b[1m 1/11\u001b[0m \u001b[32m━\u001b[0m\u001b[37m━━━━━━━━━━━━━━━━━━━\u001b[0m \u001b[1m1:36\u001b[0m 10s/step - accuracy: 0.5000 - loss: 0.6862"
     ]
    },
    {
     "name": "stderr",
     "output_type": "stream",
     "text": [
      "I0000 00:00:1753373885.879990      73 device_compiler.h:188] Compiled cluster using XLA!  This line is logged at most once for the lifetime of the process.\n"
     ]
    },
    {
     "name": "stdout",
     "output_type": "stream",
     "text": [
      "\u001b[1m11/11\u001b[0m \u001b[32m━━━━━━━━━━━━━━━━━━━━\u001b[0m\u001b[37m\u001b[0m \u001b[1m51s\u001b[0m 4s/step - accuracy: 0.5703 - loss: 0.7818 - val_accuracy: 0.7125 - val_loss: 0.5328\n",
      "Epoch 2/10\n",
      "\u001b[1m11/11\u001b[0m \u001b[32m━━━━━━━━━━━━━━━━━━━━\u001b[0m\u001b[37m\u001b[0m \u001b[1m35s\u001b[0m 3s/step - accuracy: 0.7819 - loss: 0.4612 - val_accuracy: 0.7750 - val_loss: 0.4967\n",
      "Epoch 3/10\n",
      "\u001b[1m11/11\u001b[0m \u001b[32m━━━━━━━━━━━━━━━━━━━━\u001b[0m\u001b[37m\u001b[0m \u001b[1m33s\u001b[0m 3s/step - accuracy: 0.8973 - loss: 0.2623 - val_accuracy: 0.9000 - val_loss: 0.2102\n",
      "Epoch 4/10\n",
      "\u001b[1m11/11\u001b[0m \u001b[32m━━━━━━━━━━━━━━━━━━━━\u001b[0m\u001b[37m\u001b[0m \u001b[1m33s\u001b[0m 3s/step - accuracy: 0.9713 - loss: 0.1609 - val_accuracy: 0.9000 - val_loss: 0.2336\n",
      "Epoch 5/10\n",
      "\u001b[1m11/11\u001b[0m \u001b[32m━━━━━━━━━━━━━━━━━━━━\u001b[0m\u001b[37m\u001b[0m \u001b[1m34s\u001b[0m 3s/step - accuracy: 0.9439 - loss: 0.1480 - val_accuracy: 0.9750 - val_loss: 0.1072\n",
      "Epoch 6/10\n",
      "\u001b[1m11/11\u001b[0m \u001b[32m━━━━━━━━━━━━━━━━━━━━\u001b[0m\u001b[37m\u001b[0m \u001b[1m33s\u001b[0m 3s/step - accuracy: 0.9790 - loss: 0.0707 - val_accuracy: 0.9000 - val_loss: 0.2427\n",
      "Epoch 7/10\n",
      "\u001b[1m11/11\u001b[0m \u001b[32m━━━━━━━━━━━━━━━━━━━━\u001b[0m\u001b[37m\u001b[0m \u001b[1m33s\u001b[0m 3s/step - accuracy: 0.9735 - loss: 0.1241 - val_accuracy: 0.9500 - val_loss: 0.1359\n",
      "Epoch 8/10\n",
      "\u001b[1m11/11\u001b[0m \u001b[32m━━━━━━━━━━━━━━━━━━━━\u001b[0m\u001b[37m\u001b[0m \u001b[1m33s\u001b[0m 3s/step - accuracy: 0.9859 - loss: 0.0441 - val_accuracy: 0.9750 - val_loss: 0.0989\n",
      "Epoch 9/10\n",
      "\u001b[1m11/11\u001b[0m \u001b[32m━━━━━━━━━━━━━━━━━━━━\u001b[0m\u001b[37m\u001b[0m \u001b[1m33s\u001b[0m 3s/step - accuracy: 1.0000 - loss: 0.0254 - val_accuracy: 0.9750 - val_loss: 0.0784\n",
      "Epoch 10/10\n",
      "\u001b[1m11/11\u001b[0m \u001b[32m━━━━━━━━━━━━━━━━━━━━\u001b[0m\u001b[37m\u001b[0m \u001b[1m33s\u001b[0m 3s/step - accuracy: 1.0000 - loss: 0.0098 - val_accuracy: 0.9625 - val_loss: 0.0945\n"
     ]
    }
   ],
   "source": [
    "history = model.fit(\n",
    "    train_generator,\n",
    "    epochs=10,\n",
    "    validation_data=test_generator\n",
    ")"
   ]
  },
  {
   "cell_type": "markdown",
   "id": "c52c48a6",
   "metadata": {
    "papermill": {
     "duration": 0.008974,
     "end_time": "2025-07-24T16:23:45.881328",
     "exception": false,
     "start_time": "2025-07-24T16:23:45.872354",
     "status": "completed"
    },
    "tags": []
   },
   "source": [
    "Visualising the model performance"
   ]
  },
  {
   "cell_type": "code",
   "execution_count": 7,
   "id": "96ec0ed5",
   "metadata": {
    "execution": {
     "iopub.execute_input": "2025-07-24T16:23:45.900452Z",
     "iopub.status.busy": "2025-07-24T16:23:45.900197Z",
     "iopub.status.idle": "2025-07-24T16:23:46.230121Z",
     "shell.execute_reply": "2025-07-24T16:23:46.229357Z"
    },
    "papermill": {
     "duration": 0.34135,
     "end_time": "2025-07-24T16:23:46.231864",
     "exception": false,
     "start_time": "2025-07-24T16:23:45.890514",
     "status": "completed"
    },
    "tags": []
   },
   "outputs": [
    {
     "data": {
      "image/png": "[encoded data removed]",
      "text/plain": [
       "<Figure size 640x480 with 1 Axes>"
      ]
     },
     "metadata": {},
     "output_type": "display_data"
    }
   ],
   "source": [
    "plt.plot(history.history['accuracy'], label='Train Accuracy')\n",
    "plt.plot(history.history['val_accuracy'], label='Validation Accuracy')\n",
    "plt.legend()\n",
    "plt.title(\"Model Performance\")\n",
    "plt.xlabel(\"Epoch\")\n",
    "plt.ylabel(\"Accuracy\")\n",
    "plt.show()"
   ]
  },
  {
   "cell_type": "markdown",
   "id": "ce9a4bd5",
   "metadata": {
    "papermill": {
     "duration": 0.009231,
     "end_time": "2025-07-24T16:23:46.251760",
     "exception": false,
     "start_time": "2025-07-24T16:23:46.242529",
     "status": "completed"
    },
    "tags": []
   },
   "source": [
    "If you want to make prediction, you can change img_path to your image path."
   ]
  },
  {
   "cell_type": "code",
   "execution_count": 8,
   "id": "438e56ee",
   "metadata": {
    "execution": {
     "iopub.execute_input": "2025-07-24T16:23:46.271745Z",
     "iopub.status.busy": "2025-07-24T16:23:46.271190Z",
     "iopub.status.idle": "2025-07-24T16:23:48.469419Z",
     "shell.execute_reply": "2025-07-24T16:23:48.468285Z"
    },
    "papermill": {
     "duration": 2.209639,
     "end_time": "2025-07-24T16:23:48.470903",
     "exception": false,
     "start_time": "2025-07-24T16:23:46.261264",
     "status": "completed"
    },
    "tags": []
   },
   "outputs": [
    {
     "name": "stdout",
     "output_type": "stream",
     "text": [
      "\u001b[1m1/1\u001b[0m \u001b[32m━━━━━━━━━━━━━━━━━━━━\u001b[0m\u001b[37m\u001b[0m \u001b[1m1s\u001b[0m 536ms/step\n",
      "There Is Fire\n"
     ]
    }
   ],
   "source": [
    "import numpy as np\n",
    "from tensorflow.keras.preprocessing import image\n",
    "\n",
    "img_path = '/kaggle/input/forest-fire-from-himawari8-satellite/Data/Train/0/061.png'\n",
    "img = image.load_img(img_path, target_size=(128, 128))\n",
    "img_array = image.img_to_array(img) / 255.\n",
    "img_array = np.expand_dims(img_array, axis=0)\n",
    "\n",
    "prediction = model.predict(img_array)\n",
    "print(\"There Is Fire\" if prediction[0][0] > 0.5 else \"There Is No Fire\")"
   ]
  }
 ],
 "metadata": {
  "kaggle": {
   "accelerator": "gpu",
   "dataSources": [
    {
     "datasetId": 950679,
     "sourceId": 1610355,
     "sourceType": "datasetVersion"
    }
   ],
   "dockerImageVersionId": 31090,
   "isGpuEnabled": true,
   "isInternetEnabled": true,
   "language": "python",
   "sourceType": "notebook"
  },
  "kernelspec": {
   "display_name": "Python 3",
   "language": "python",
   "name": "python3"
  },
  "language_info": {
   "codemirror_mode": {
    "name": "ipython",
    "version": 3
   },
   "file_extension": ".py",
   "mimetype": "text/x-python",
   "name": "python",
   "nbconvert_exporter": "python",
   "pygments_lexer": "ipython3",
   "version": "3.11.13"
  },
  "papermill": {
   "default_parameters": {},
   "duration": 388.523813,
   "end_time": "2025-07-24T16:23:51.748835",
   "environment_variables": {},
   "exception": null,
   "input_path": "__notebook__.ipynb",
   "output_path": "__notebook__.ipynb",
   "parameters": {},
   "start_time": "2025-07-24T16:17:23.225022",
   "version": "2.6.0"
  }
 },
 "nbformat": 4,
 "nbformat_minor": 5
}
